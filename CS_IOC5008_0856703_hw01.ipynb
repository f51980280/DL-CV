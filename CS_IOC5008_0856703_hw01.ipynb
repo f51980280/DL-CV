{
 "cells": [
  {
   "cell_type": "code",
   "execution_count": null,
   "metadata": {},
   "outputs": [],
   "source": [
    "import glob\n",
    "import os\n",
    "import numpy as np\n",
    "import tensorflow as tf \n",
    "import keras\n",
    "import keras.backend.tensorflow_backend as KTF\n",
    "import tensorflow.keras.layers as Layers\n",
    "import tensorflow.keras.optimizers as Optimizer\n",
    "from keras.utils import np_utils\n",
    "from keras.regularizers import l2\n",
    "from keras.models import Sequential\n",
    "from keras.layers import MaxPooling2D \n",
    "from keras.layers import Dense,Dropout,Input,BatchNormalization,Activation,Conv2D\n",
    "from keras.layers import AveragePooling2D, Input, Flatten\n",
    "from keras.optimizers import Adam\n",
    "from keras.regularizers import l2\n",
    "from keras import backend as K\n",
    "from keras.models import Model\n",
    "from sklearn.utils import shuffle\n",
    "from PIL import Image\n",
    "\n",
    "classes_labels = {'bedroom':0,'coast':1,'forest':2,'highway':3,'insidecity':4,'kitchen':5,'livingroom':6,'mountain':7,'office':8,'opencountry':9,'street':10,'suburb':11,'tallbuilding':12}\n",
    "category={0:'bedroom',1:'coast',2:'forest',3:'highway',4:'insidectiy',5:'kitchen',6:'livingroom',7:'mountain',8:'office',9:'opencountry',10:'street',11:'suburb',12:'tallbuilding'}"
   ]
  },
  {
   "cell_type": "code",
   "execution_count": null,
   "metadata": {},
   "outputs": [],
   "source": [
    "print(\"Num GPUs Available: \", len(tf.config.experimental.list_physical_devices('GPU')))"
   ]
  },
  {
   "cell_type": "code",
   "execution_count": null,
   "metadata": {},
   "outputs": [],
   "source": [
    "gpus = tf.config.experimental.list_physical_devices('GPU')\n",
    "if gpus:\n",
    "  # Restrict TensorFlow to only allocate 1GB of memory on the first GPU\n",
    "  try:\n",
    "    tf.config.experimental.set_virtual_device_configuration(\n",
    "        gpus[0],\n",
    "        [tf.config.experimental.VirtualDeviceConfiguration(memory_limit=4096)])\n",
    "    logical_gpus = tf.config.experimental.list_logical_devices('GPU')\n",
    "    print(len(gpus), \"Physical GPUs,\", len(logical_gpus), \"Logical GPUs\")\n",
    "  except RuntimeError as e:\n",
    "    # Virtual devices must be set before GPUs have been initialized\n",
    "    print(e)"
   ]
  },
  {
   "cell_type": "code",
   "execution_count": null,
   "metadata": {},
   "outputs": [],
   "source": [
    "X_size=150\n",
    "Y_size=150\n",
    "num=0\n",
    "X_train=np.zeros((X_size,Y_size))\n",
    "Y_train=np.zeros(1)\n",
    "\n",
    "for folders in glob.glob(r'C:\\Users\\Wei\\Desktop\\DL&CV\\cs-ioc5008-hw1\\dataset\\dataset\\train\\*'):\n",
    "    print(folders)\n",
    "    label=os.path.basename(folders)\n",
    "    print(label)\n",
    "    for filename in os.listdir(folders):        \n",
    "        img_dir=os.path.join(folders, filename)\n",
    "        Img=Image.open(img_dir)\n",
    "        test=Img.resize((X_size,Y_size),Image.BILINEAR)\n",
    "        test=np.array(test,dtype=float)/255\n",
    "        X_train=np.append(X_train,test)        \n",
    "        Y_train = np.vstack((Y_train,classes_labels[label]))       \n",
    "        print(num)\n",
    "        num+=1\n",
    "\n",
    "Y_train=np.delete(Y_train,0,axis=0)\n",
    "X_train=X_train[X_size*Y_size:]\n",
    "X_train=X_train.reshape(num,X_size,Y_size,1)\n",
    "X,y=shuffle(X_train,Y_train,random_state=817328462)\n",
    "X_4D=X.reshape(X.shape[0],X_size,Y_size,1).astype('float32')\n",
    "y_OneHot = np_utils.to_categorical(y)"
   ]
  },
  {
   "cell_type": "code",
   "execution_count": null,
   "metadata": {},
   "outputs": [],
   "source": [
    "model=tf.keras.Sequential()\n",
    "model.add(Layers.Conv2D(220,kernel_size=(3,3),activation='relu',input_shape=(150,150,1)))\n",
    "model.add(Layers.Conv2D(180,kernel_size=(3,3),kernel_regularizer=l2(0.01), bias_regularizer=l2(0.01),activation='relu'))\n",
    "model.add(Layers.MaxPool2D(5,5))\n",
    "model.add(Layers.Dropout(rate=0.1))\n",
    "model.add(Layers.Conv2D(180,kernel_size=(3,3),kernel_regularizer=l2(0.01), bias_regularizer=l2(0.01),activation='relu'))\n",
    "model.add(Layers.Dropout(rate=0.2))\n",
    "model.add(Layers.Conv2D(140,kernel_size=(3,3),activation='relu'))\n",
    "model.add(Layers.Dropout(rate=0.2))\n",
    "model.add(Layers.Conv2D(100,kernel_size=(3,3),activation='relu'))\n",
    "model.add(Layers.Dropout(rate=0.2))\n",
    "model.add(Layers.Conv2D(50,kernel_size=(3,3),activation='relu'))\n",
    "model.add(Layers.Dropout(rate=0.2))\n",
    "model.add(Layers.MaxPool2D(5,5))\n",
    "model.add(Layers.Dropout(rate=0.5))\n",
    "model.add(Layers.Flatten())\n",
    "model.add(Layers.Dense(180,activation='relu'))\n",
    "model.add(Layers.Dense(100,activation='relu'))\n",
    "model.add(Layers.Dense(50,activation='relu'))\n",
    "model.add(Layers.Dropout(rate=0.5))\n",
    "model.add(Layers.Dense(13,activation='softmax'))\n",
    "\n",
    "model.compile(optimizer=Optimizer.Adam(lr=0.0001),loss='sparse_categorical_crossentropy',metrics=['accuracy'])\n",
    "\n",
    "model.summary()"
   ]
  },
  {
   "cell_type": "code",
   "execution_count": null,
   "metadata": {},
   "outputs": [],
   "source": [
    "model.fit(X_4D,y,batch_size=32,epochs=1000,validation_split=0.05,verbose=1,shuffle=True)"
   ]
  },
  {
   "cell_type": "code",
   "execution_count": null,
   "metadata": {},
   "outputs": [],
   "source": [
    "X_size=150\n",
    "Y_size=150\n",
    "num=0\n",
    "\n",
    "X_test = np.zeros((X_size,Y_size))\n",
    "\n",
    "for folders in glob.glob(r'C:\\Users\\Wei\\Desktop\\DL&CV\\cs-ioc5008-hw1\\dataset\\dataset\\test\\*'):      \n",
    "    Img=Image.open(folders)\n",
    "    test=Img.resize((X_size,Y_size),Image.BILINEAR)\n",
    "    test=np.array(test, dtype=float)/255\n",
    "    X_test=np.append(X_test,test)       \n",
    "    print(num)\n",
    "    num+=1\n",
    "\n",
    "X_test=X_test[X_size*Y_size:]\n",
    "X_test=X_test.reshape(num,X_size,Y_size,1)"
   ]
  },
  {
   "cell_type": "code",
   "execution_count": null,
   "metadata": {},
   "outputs": [],
   "source": [
    "list=[]\n",
    "for filename in glob.glob(r'C:\\Users\\Wei\\Desktop\\DL&CV\\cs-ioc5008-hw1\\dataset\\dataset\\test\\*'):\n",
    "    temp=os.path.basename(filename)\n",
    "    list.append(os.path.splitext(temp)[0])"
   ]
  },
  {
   "cell_type": "code",
   "execution_count": null,
   "metadata": {},
   "outputs": [],
   "source": [
    "ANS = model.predict_classes(X_test)\n",
    "ans=[]\n",
    "for i in range (0,1041):\n",
    "    print(ANS[i])\n",
    "    ans.append(category[ANS[i]])"
   ]
  },
  {
   "cell_type": "code",
   "execution_count": 24,
   "metadata": {},
   "outputs": [],
   "source": [
    "f=open(\"submission.csv\", \"w\")  ##寫檔\n",
    "f.write(\"{},{}\\n\".format(\"Id\", \"label\"))\n",
    "for x in zip(list, ans):\n",
    "    f.write(\"{},{}\\n\".format(x[0], x[1]))\n",
    "f.close()"
   ]
  },
  {
   "cell_type": "code",
   "execution_count": null,
   "metadata": {},
   "outputs": [],
   "source": []
  },
  {
   "cell_type": "code",
   "execution_count": null,
   "metadata": {},
   "outputs": [],
   "source": []
  }
 ],
 "metadata": {
  "kernelspec": {
   "display_name": "Python 3",
   "language": "python",
   "name": "python3"
  },
  "language_info": {
   "codemirror_mode": {
    "name": "ipython",
    "version": 3
   },
   "file_extension": ".py",
   "mimetype": "text/x-python",
   "name": "python",
   "nbconvert_exporter": "python",
   "pygments_lexer": "ipython3",
   "version": "3.7.3"
  }
 },
 "nbformat": 4,
 "nbformat_minor": 2
}
